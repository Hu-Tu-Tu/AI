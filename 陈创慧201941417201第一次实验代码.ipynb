{
 "cells": [
  {
   "cell_type": "markdown",
   "id": "238f1d4a",
   "metadata": {},
   "source": [
    "# 线性回归验证实验"
   ]
  },
  {
   "cell_type": "code",
   "execution_count": 4,
   "id": "ce93fc22",
   "metadata": {},
   "outputs": [
    {
     "data": {
      "text/plain": [
       "LinearRegression()"
      ]
     },
     "execution_count": 4,
     "metadata": {},
     "output_type": "execute_result"
    }
   ],
   "source": [
    "# 线性回归模型的应用\n",
    "from sklearn import linear_model\n",
    "import numpy as np\n",
    "regression=linear_model.LinearRegression() # 创建线性回归模型\n",
    "X=[[3],[8]] # 观察值的X坐标，是一个二维的数组\n",
    "y=[1,2] # 观察值的y坐标，是一个一维数组\n",
    "regression.fit(X,y) # 拟合"
   ]
  },
  {
   "cell_type": "code",
   "execution_count": 5,
   "id": "338c3a62",
   "metadata": {},
   "outputs": [
    {
     "data": {
      "text/plain": [
       "0.40000000000000013"
      ]
     },
     "execution_count": 5,
     "metadata": {},
     "output_type": "execute_result"
    }
   ],
   "source": [
    "regression.intercept_  # 截距"
   ]
  },
  {
   "cell_type": "code",
   "execution_count": 6,
   "id": "884161aa",
   "metadata": {},
   "outputs": [
    {
     "data": {
      "text/plain": [
       "array([0.2])"
      ]
     },
     "execution_count": 6,
     "metadata": {},
     "output_type": "execute_result"
    }
   ],
   "source": [
    "regression.coef_ # 斜率，回归系数\n",
    "                 # 反映x对y影响的大小"
   ]
  },
  {
   "cell_type": "code",
   "execution_count": 7,
   "id": "ab39ab09",
   "metadata": {},
   "outputs": [
    {
     "data": {
      "text/plain": [
       "array([ 4.4,  7.2,  3. , 12.2, 15.8,  7.8, 16. , 15.2,  2.4,  1.4])"
      ]
     },
     "execution_count": 7,
     "metadata": {},
     "output_type": "execute_result"
    }
   ],
   "source": [
    "# regression.predict([[6]])\n",
    "unKnown=np.random.randint(0,100,[10,1])\n",
    "regression.predict(unKnown)"
   ]
  },
  {
   "cell_type": "markdown",
   "id": "2ca94182",
   "metadata": {},
   "source": [
    "# 岭回归实验\n",
    "* 约束项系数是10"
   ]
  },
  {
   "cell_type": "code",
   "execution_count": 8,
   "id": "b70e797d",
   "metadata": {},
   "outputs": [
    {
     "data": {
      "text/plain": [
       "Ridge(alpha=10)"
      ]
     },
     "execution_count": 8,
     "metadata": {},
     "output_type": "execute_result"
    }
   ],
   "source": [
    "from sklearn.linear_model import Ridge\n",
    "import numpy as np\n",
    "ridgeRegression=Ridge(alpha=10) # 创建岭回归模型，设置约束项系数为10\n",
    "X=[[3],[8]]\n",
    "y=[1,2]\n",
    "ridgeRegression.fit(X,y) # 拟合"
   ]
  },
  {
   "cell_type": "code",
   "execution_count": 9,
   "id": "552e03b4",
   "metadata": {},
   "outputs": [
    {
     "data": {
      "text/plain": [
       "array([7.        , 9.88888889, 7.77777778, 9.22222222, 7.66666667,\n",
       "       8.44444444, 8.        , 9.11111111, 9.        , 9.77777778])"
      ]
     },
     "execution_count": 9,
     "metadata": {},
     "output_type": "execute_result"
    }
   ],
   "source": [
    "unKnown=np.random.randint(0,100,[10,1])\n",
    "ridgeRegression.predict(unKnown) # 预测"
   ]
  },
  {
   "cell_type": "code",
   "execution_count": 10,
   "id": "93a28813",
   "metadata": {},
   "outputs": [
    {
     "data": {
      "text/plain": [
       "array([0.11111111])"
      ]
     },
     "execution_count": 10,
     "metadata": {},
     "output_type": "execute_result"
    }
   ],
   "source": [
    "# 查看回归系数\n",
    "ridgeRegression.coef_"
   ]
  },
  {
   "cell_type": "code",
   "execution_count": 11,
   "id": "03ee4188",
   "metadata": {},
   "outputs": [
    {
     "data": {
      "text/plain": [
       "0.8888888888888888"
      ]
     },
     "execution_count": 11,
     "metadata": {},
     "output_type": "execute_result"
    }
   ],
   "source": [
    "# 和截距\n",
    "ridgeRegression.intercept_"
   ]
  },
  {
   "cell_type": "markdown",
   "id": "3a21e3dd",
   "metadata": {},
   "source": [
    "* 约束项是1"
   ]
  },
  {
   "cell_type": "code",
   "execution_count": 9,
   "id": "7070174f",
   "metadata": {},
   "outputs": [
    {
     "data": {
      "text/plain": [
       "Ridge()"
      ]
     },
     "execution_count": 9,
     "metadata": {},
     "output_type": "execute_result"
    }
   ],
   "source": [
    "from sklearn.linear_model import Ridge\n",
    "ridgeRegression=Ridge(alpha=1.0) \n",
    "X=[[3],[8]]\n",
    "y=[1,2]\n",
    "ridgeRegression.fit(X,y) # 拟合"
   ]
  },
  {
   "cell_type": "code",
   "execution_count": 10,
   "id": "946691f9",
   "metadata": {},
   "outputs": [
    {
     "data": {
      "text/plain": [
       "array([1.59259259])"
      ]
     },
     "execution_count": 10,
     "metadata": {},
     "output_type": "execute_result"
    }
   ],
   "source": [
    "ridgeRegression.predict([[6]]) # 预测"
   ]
  },
  {
   "cell_type": "code",
   "execution_count": 11,
   "id": "ddd35eaf",
   "metadata": {},
   "outputs": [
    {
     "data": {
      "text/plain": [
       "array([0.18518519])"
      ]
     },
     "execution_count": 11,
     "metadata": {},
     "output_type": "execute_result"
    }
   ],
   "source": [
    "# 查看回归系数\n",
    "ridgeRegression.coef_"
   ]
  },
  {
   "cell_type": "code",
   "execution_count": 12,
   "id": "97f8d92b",
   "metadata": {},
   "outputs": [
    {
     "data": {
      "text/plain": [
       "0.4814814814814816"
      ]
     },
     "execution_count": 12,
     "metadata": {},
     "output_type": "execute_result"
    }
   ],
   "source": [
    "# 和截距\n",
    "ridgeRegression.intercept_"
   ]
  },
  {
   "cell_type": "markdown",
   "id": "e34a9959",
   "metadata": {},
   "source": [
    "* 约束项是1"
   ]
  },
  {
   "cell_type": "code",
   "execution_count": 13,
   "id": "1660f8c5",
   "metadata": {},
   "outputs": [
    {
     "data": {
      "text/plain": [
       "Ridge(alpha=0)"
      ]
     },
     "execution_count": 13,
     "metadata": {},
     "output_type": "execute_result"
    }
   ],
   "source": [
    "from sklearn.linear_model import Ridge\n",
    "ridgeRegression=Ridge(alpha=0) \n",
    "X=[[3],[8]]\n",
    "y=[1,2]\n",
    "ridgeRegression.fit(X,y) # 拟合"
   ]
  },
  {
   "cell_type": "code",
   "execution_count": 14,
   "id": "df81534b",
   "metadata": {},
   "outputs": [
    {
     "data": {
      "text/plain": [
       "array([1.6])"
      ]
     },
     "execution_count": 14,
     "metadata": {},
     "output_type": "execute_result"
    }
   ],
   "source": [
    "ridgeRegression.predict([[6]]) # 预测"
   ]
  },
  {
   "cell_type": "code",
   "execution_count": 15,
   "id": "86b8c542",
   "metadata": {},
   "outputs": [
    {
     "data": {
      "text/plain": [
       "array([0.2])"
      ]
     },
     "execution_count": 15,
     "metadata": {},
     "output_type": "execute_result"
    }
   ],
   "source": [
    "# 查看回归系数\n",
    "ridgeRegression.coef_"
   ]
  },
  {
   "cell_type": "code",
   "execution_count": 16,
   "id": "acbaf748",
   "metadata": {},
   "outputs": [
    {
     "data": {
      "text/plain": [
       "0.40000000000000013"
      ]
     },
     "execution_count": 16,
     "metadata": {},
     "output_type": "execute_result"
    }
   ],
   "source": [
    "# 和截距\n",
    "ridgeRegression.intercept_"
   ]
  },
  {
   "cell_type": "markdown",
   "id": "d16c0080",
   "metadata": {},
   "source": [
    "* 指定约束项范围"
   ]
  },
  {
   "cell_type": "code",
   "execution_count": 17,
   "id": "59a7dad5",
   "metadata": {},
   "outputs": [
    {
     "data": {
      "text/plain": [
       "RidgeCV(alphas=array([1.000e-03, 1.001e+00, 2.001e+00, 3.001e+00, 4.001e+00, 5.001e+00,\n",
       "       6.001e+00, 7.001e+00, 8.001e+00, 9.001e+00]))"
      ]
     },
     "execution_count": 17,
     "metadata": {},
     "output_type": "execute_result"
    }
   ],
   "source": [
    "import numpy as np\n",
    "from sklearn.linear_model import RidgeCV\n",
    "X=[[3],[8]]\n",
    "y=[1,2]\n",
    "reg=RidgeCV(alphas=np.arange(0.001,10)) # 指定α参数的范围，不能是负数和0，每次递增为1\n",
    "reg.fit(X,y) # 拟合"
   ]
  },
  {
   "cell_type": "code",
   "execution_count": 18,
   "id": "4a049f14",
   "metadata": {},
   "outputs": [
    {
     "data": {
      "text/plain": [
       "2.001"
      ]
     },
     "execution_count": 18,
     "metadata": {},
     "output_type": "execute_result"
    }
   ],
   "source": [
    "reg.alpha_ # 最佳数值，拟合之后这个值才可以使用"
   ]
  },
  {
   "cell_type": "code",
   "execution_count": 19,
   "id": "c860ec4f",
   "metadata": {},
   "outputs": [
    {
     "data": {
      "text/plain": [
       "array([1.58620095])"
      ]
     },
     "execution_count": 19,
     "metadata": {},
     "output_type": "execute_result"
    }
   ],
   "source": [
    "reg.predict([[6]]) # 预测"
   ]
  },
  {
   "cell_type": "markdown",
   "id": "e3aa4811",
   "metadata": {},
   "source": [
    "# Lasso回归算法验证实验\n",
    "* 惩罚系数是3.0"
   ]
  },
  {
   "cell_type": "code",
   "execution_count": 20,
   "id": "1727843a",
   "metadata": {},
   "outputs": [
    {
     "data": {
      "text/plain": [
       "Lasso(alpha=3.0)"
      ]
     },
     "execution_count": 20,
     "metadata": {},
     "output_type": "execute_result"
    }
   ],
   "source": [
    "from sklearn.linear_model import Lasso\n",
    "X=[[3],[8]]\n",
    "y=[1,2]\n",
    "\n",
    "reg=Lasso(alpha=3.0) # 惩罚系数是3.0\n",
    "reg.fit(X,y) # 拟合"
   ]
  },
  {
   "cell_type": "code",
   "execution_count": 21,
   "id": "e59ac55e",
   "metadata": {},
   "outputs": [
    {
     "data": {
      "text/plain": [
       "array([0.])"
      ]
     },
     "execution_count": 21,
     "metadata": {},
     "output_type": "execute_result"
    }
   ],
   "source": [
    "reg.coef_ # 查看系数"
   ]
  },
  {
   "cell_type": "code",
   "execution_count": 22,
   "id": "d907e83f",
   "metadata": {},
   "outputs": [
    {
     "data": {
      "text/plain": [
       "1.5"
      ]
     },
     "execution_count": 22,
     "metadata": {},
     "output_type": "execute_result"
    }
   ],
   "source": [
    "reg.intercept_ # 截距"
   ]
  },
  {
   "cell_type": "code",
   "execution_count": 23,
   "id": "73e1bba3",
   "metadata": {},
   "outputs": [
    {
     "data": {
      "text/plain": [
       "array([1.5])"
      ]
     },
     "execution_count": 23,
     "metadata": {},
     "output_type": "execute_result"
    }
   ],
   "source": [
    "reg.predict([[6]])"
   ]
  },
  {
   "cell_type": "markdown",
   "id": "5a61934f",
   "metadata": {},
   "source": [
    "# 弹性网络算法验证实验"
   ]
  },
  {
   "cell_type": "code",
   "execution_count": 1,
   "id": "db3f2350",
   "metadata": {},
   "outputs": [
    {
     "data": {
      "text/plain": [
       "ElasticNet(l1_ratio=0.7)"
      ]
     },
     "execution_count": 1,
     "metadata": {},
     "output_type": "execute_result"
    }
   ],
   "source": [
    "from sklearn.linear_model import ElasticNet\n",
    "reg=ElasticNet(alpha=1.0,l1_ratio=0.7)\n",
    "X=[[3],[8]]\n",
    "y=[1,2]\n",
    "reg.fit(X,y)"
   ]
  },
  {
   "cell_type": "code",
   "execution_count": 2,
   "id": "d1f217b1",
   "metadata": {},
   "outputs": [
    {
     "data": {
      "text/plain": [
       "array([1.54198473])"
      ]
     },
     "execution_count": 2,
     "metadata": {},
     "output_type": "execute_result"
    }
   ],
   "source": [
    "reg.predict([[6]])"
   ]
  },
  {
   "cell_type": "code",
   "execution_count": 3,
   "id": "12f92c05",
   "metadata": {},
   "outputs": [
    {
     "data": {
      "text/plain": [
       "array([0.08396947])"
      ]
     },
     "execution_count": 3,
     "metadata": {},
     "output_type": "execute_result"
    }
   ],
   "source": [
    "reg.coef_"
   ]
  },
  {
   "cell_type": "code",
   "execution_count": 4,
   "id": "182a10fa",
   "metadata": {},
   "outputs": [
    {
     "data": {
      "text/plain": [
       "1.0381679389312977"
      ]
     },
     "execution_count": 4,
     "metadata": {},
     "output_type": "execute_result"
    }
   ],
   "source": [
    "reg.intercept_"
   ]
  },
  {
   "cell_type": "markdown",
   "id": "011d8d5d",
   "metadata": {},
   "source": [
    "# 回归算法训练模型来预测身高"
   ]
  },
  {
   "cell_type": "code",
   "execution_count": 5,
   "id": "03c05828",
   "metadata": {},
   "outputs": [
    {
     "data": {
      "text/plain": [
       "LinearRegression()"
      ]
     },
     "execution_count": 5,
     "metadata": {},
     "output_type": "execute_result"
    }
   ],
   "source": [
    "import copy\n",
    "import numpy as np\n",
    "from sklearn import linear_model\n",
    "\n",
    "# 训练数据，每一行表示一个样本，包含的信息分别为：\n",
    "# 儿童年龄,性别（0女1男）\n",
    "# 父亲、母亲、祖父、祖母、外祖父、外祖母的身高\n",
    "X = np.array([[1, 0, 180, 165, 175, 165, 170, 165],\n",
    "              [3, 0, 180, 165, 175, 165, 173, 165],\n",
    "              [4, 0, 180, 165, 175, 165, 170, 165],\n",
    "              [6, 0, 180, 165, 175, 165, 170, 165],\n",
    "              [8, 1, 180, 165, 175, 167, 170, 165],\n",
    "              [10, 0, 180, 166, 175, 165, 170, 165],\n",
    "              [11, 0, 180, 165, 175, 165, 170, 165],\n",
    "              [12, 0, 180, 165, 175, 165, 170, 165],\n",
    "              [13, 1, 180, 165, 175, 165, 170, 165],\n",
    "              [14, 0, 180, 165, 175, 165, 170, 165],\n",
    "              [17, 0, 170, 165, 175, 165, 170, 165]])\n",
    "\n",
    "# 儿童身高，单位：cm\n",
    "y = np.array([60, 90, 100, 110, 130, 140, 150, 164, 160, 163, 168])\n",
    "\n",
    "# 创建线性回归模型\n",
    "lr=linear_model.LinearRegression()\n",
    "# 拟合\n",
    "lr.fit(X,y)"
   ]
  },
  {
   "cell_type": "code",
   "execution_count": 6,
   "id": "a9e9044b",
   "metadata": {},
   "outputs": [
    {
     "name": "stdout",
     "output_type": "stream",
     "text": [
      "[ 10   0 180 165 175 165 170 165] : [140.56153846]\n",
      "[ 17   1 173 153 175 161 170 161] : [158.41]\n",
      "[ 34   0 170 165 170 165 170 165] : [176.03076923]\n"
     ]
    }
   ],
   "source": [
    "# 待测的未知数据，其中每个分量的含义和训练数据相同\n",
    "x = np.array([[10, 0, 180, 165, 175, 165, 170, 165],\n",
    "               [17, 1, 173, 153, 175, 161, 170, 161],\n",
    "               [34, 0, 170, 165, 170, 165, 170, 165]])\n",
    "\n",
    "for item in x:\n",
    "    # 为不改变原始数据，进行深复制，并假设超过18岁以后就不再长高了\n",
    "    # 对于18岁以后的年龄，返回18岁时的身高\n",
    "    item1 = copy.deepcopy(item)\n",
    "    if item1[0] > 18:\n",
    "        item1[0] = 18\n",
    "    print(item, ':', lr.predict(item1.reshape(1,-1)))\n"
   ]
  },
  {
   "cell_type": "markdown",
   "id": "3b1949af",
   "metadata": {},
   "source": [
    "# 逻辑回归算法预测考试是否能够及格\n",
    "* 随机实验"
   ]
  },
  {
   "cell_type": "code",
   "execution_count": 7,
   "id": "7b99ff95",
   "metadata": {},
   "outputs": [
    {
     "name": "stdout",
     "output_type": "stream",
     "text": [
      "[1 0 0 0 0 0 0 0 0 0 0 1 0 0 1]\n",
      "[1 1 1 1 1 1 0 1 1 1 1 0 0 1 1]\n"
     ]
    }
   ],
   "source": [
    "import numpy as np\n",
    "from sklearn.linear_model import LogisticRegression\n",
    "import matplotlib.pyplot as plt\n",
    "\n",
    "# 构造测试数据\n",
    "X=np.array([[i] for i in range(30)])\n",
    "y=np.array([0]*15+[1]*15)\n",
    "\n",
    "# 人为修改部分样本的值\n",
    "y[np.random.randint(0,15,3)] = 1\n",
    "y[np.random.randint(15,30,4)] = 0\n",
    "print(y[:15])\n",
    "print(y[15:])"
   ]
  },
  {
   "cell_type": "code",
   "execution_count": 8,
   "id": "65da3f54",
   "metadata": {},
   "outputs": [
    {
     "data": {
      "text/plain": [
       "<matplotlib.collections.PathCollection at 0x244ae0fd808>"
      ]
     },
     "execution_count": 8,
     "metadata": {},
     "output_type": "execute_result"
    },
    {
     "data": {
      "image/png": "[encoded data removed]",
      "text/plain": [
       "<Figure size 432x288 with 1 Axes>"
      ]
     },
     "metadata": {
      "needs_background": "light"
     },
     "output_type": "display_data"
    }
   ],
   "source": [
    "# 根据原始数据绘制散点图\n",
    "plt.scatter(X,y)"
   ]
  },
  {
   "cell_type": "code",
   "execution_count": 9,
   "id": "abb310b4",
   "metadata": {},
   "outputs": [
    {
     "data": {
      "text/plain": [
       "LogisticRegression(C=3.0)"
      ]
     },
     "execution_count": 9,
     "metadata": {},
     "output_type": "execute_result"
    }
   ],
   "source": [
    "# 创建并训练逻辑回归模型\n",
    "reg=LogisticRegression('l2',C=3.0)\n",
    "reg.fit(X,y)"
   ]
  },
  {
   "cell_type": "code",
   "execution_count": 10,
   "id": "1d3e5ad8",
   "metadata": {},
   "outputs": [
    {
     "name": "stdout",
     "output_type": "stream",
     "text": [
      "[0 1]\n"
     ]
    }
   ],
   "source": [
    "# 对未知数据进行预测\n",
    "print(reg.predict([[5],[19]]))"
   ]
  },
  {
   "cell_type": "code",
   "execution_count": 11,
   "id": "14ef4513",
   "metadata": {},
   "outputs": [
    {
     "name": "stdout",
     "output_type": "stream",
     "text": [
      "[[0.78130853 0.21869147]\n",
      " [0.35362437 0.64637563]]\n"
     ]
    }
   ],
   "source": [
    "# 未知数据属于某一种类别的概率\n",
    "print(reg.predict_proba([[5],[19]]))"
   ]
  },
  {
   "cell_type": "code",
   "execution_count": 12,
   "id": "2bbfc822",
   "metadata": {},
   "outputs": [
    {
     "data": {
      "image/png": "[encoded data removed]",
      "text/plain": [
       "<Figure size 432x288 with 1 Axes>"
      ]
     },
     "metadata": {
      "needs_background": "light"
     },
     "output_type": "display_data"
    }
   ],
   "source": [
    "# 对原始观察点进行预测\n",
    "yy=reg.predict(X)\n",
    "# 根据原始数据绘制散点图\n",
    "plt.scatter(X,y)\n",
    "# 根据预测结果绘制折线图\n",
    "plt.plot(X,yy)\n",
    "plt.show()"
   ]
  },
  {
   "cell_type": "markdown",
   "id": "5cca50d7",
   "metadata": {},
   "source": [
    "* 使用逻辑回归模型算法预测考试是否能及格"
   ]
  },
  {
   "cell_type": "code",
   "execution_count": 13,
   "id": "1e8799b0",
   "metadata": {},
   "outputs": [
    {
     "data": {
      "text/plain": [
       "LogisticRegression()"
      ]
     },
     "execution_count": 13,
     "metadata": {},
     "output_type": "execute_result"
    }
   ],
   "source": [
    "from sklearn.linear_model import LogisticRegression\n",
    "\n",
    "# 复习情况，格式为(时长,效率)，其中时长单位为小时\n",
    "# 效率为[0,1]之间的小数，数值越大表示效率越高\n",
    "X_train = [(0,0), (2,0.9), (3,0.4), (4,0.9), (5,0.4), (6,0.4), (6,0.8), (6,0.7), (7,0.2), (7.5,0.8),(7,0.9), (8,0.1), (8,0.6), (8,0.8)]\n",
    "# 0表示不及格，1表示及格\n",
    "y_train = [0, 0, 0, 1, 0, 0, 1, 1, 0, 1, 1, 0, 1, 1]\n",
    "\n",
    "# 创建并训练逻辑回归模型\n",
    "reg=LogisticRegression()\n",
    "reg.fit(X_train,y_train)"
   ]
  },
  {
   "cell_type": "code",
   "execution_count": 14,
   "id": "14112a45",
   "metadata": {},
   "outputs": [
    {
     "name": "stdout",
     "output_type": "stream",
     "text": [
      "模型得分：0.6\n",
      "复习时长为：8，效率为：0.9\n",
      "您不及格的概率为：0.18982398713996873\n",
      "您及格的概率为：0.8101760128600313\n",
      "综合判断，您会：及格\n"
     ]
    }
   ],
   "source": [
    "# 测试模型\n",
    "X_test = [(3,0.9), (8,0.5), (7,0.2), (4,0.5), (4,0.7)]\n",
    "y_test = [0, 1, 0, 0, 1]\n",
    "score = reg.score(X_test, y_test)\n",
    "\n",
    "# 预测并输出预测结果\n",
    "learning = [(8, 0.9)]\n",
    "result = reg.predict_proba(learning)\n",
    "msg = '''模型得分：{0}\n",
    "复习时长为：{1[0]}，效率为：{1[1]}\n",
    "您不及格的概率为：{2[0]}\n",
    "您及格的概率为：{2[1]}\n",
    "综合判断，您会：{3}'''.format(score, learning[0], result[0], '不及格' if result[0][0]>0.5 else '及格')\n",
    "print(msg)"
   ]
  },
  {
   "cell_type": "markdown",
   "id": "457604ca",
   "metadata": {},
   "source": [
    "# 朴素贝叶斯算法对中文邮件进行分类\n",
    "* 首先先从文件中获取文字"
   ]
  },
  {
   "cell_type": "code",
   "execution_count": 9,
   "id": "72529578",
   "metadata": {},
   "outputs": [
    {
     "name": "stdout",
     "output_type": "stream",
     "text": [
      "[[0.00531716 0.99468284]]\n",
      "D:\\workspaces\\AI\\ip\\人工智能\\数据集\\贝叶斯中文邮件分类\\151.txt:垃圾邮件\n",
      "[[9.86125127e-13 1.00000000e+00]]\n",
      "D:\\workspaces\\AI\\ip\\人工智能\\数据集\\贝叶斯中文邮件分类\\152.txt:垃圾邮件\n",
      "[[0.1589404 0.8410596]]\n",
      "D:\\workspaces\\AI\\ip\\人工智能\\数据集\\贝叶斯中文邮件分类\\153.txt:垃圾邮件\n",
      "[[3.13377251e-04 9.99686623e-01]]\n",
      "D:\\workspaces\\AI\\ip\\人工智能\\数据集\\贝叶斯中文邮件分类\\154.txt:垃圾邮件\n",
      "[[0.88673294 0.11326706]]\n",
      "D:\\workspaces\\AI\\ip\\人工智能\\数据集\\贝叶斯中文邮件分类\\155.txt:正常邮件\n"
     ]
    }
   ],
   "source": [
    "from re import sub\n",
    "from os import listdir\n",
    "from collections import Counter\n",
    "from itertools import chain\n",
    "from numpy import array\n",
    "from jieba import cut\n",
    "from sklearn.naive_bayes import MultinomialNB\n",
    "\n",
    "# 获取每一封邮件中的所有词语\n",
    "def getWordsFromFile(txtFile):\n",
    "    words = []\n",
    "    # 所有存储邮件文本内容的记事本文件都使用UTF8编码\n",
    "    with open(txtFile, encoding='utf8') as fp:\n",
    "        for line in fp:\n",
    "            # 遍历每一行，删除两端的空白字符\n",
    "            line = line.strip()\n",
    "            # 过滤干扰字符或无效字符\n",
    "            line = sub(r'[.【】0-9、—。，！~\\*]', '', line)\n",
    "            # 分词\n",
    "            line = cut(line)\n",
    "            # 过滤长度为1的词\n",
    "            line = filter(lambda word: len(word)>1, line)\n",
    "            # 把本行文本预处理得到的词语添加到words列表中\n",
    "            words.extend(line)\n",
    "    # 返回包含当前邮件文本中所有有效词语的列表\n",
    "    return words\n",
    "\n",
    "# 存放所有文件中的单词\n",
    "# 每个元素是一个子列表，其中存放一个文件中的所有单词\n",
    "allWords = []\n",
    "def getTopNWords(topN):\n",
    "    # 按文件编号顺序处理当前文件夹中所有记事本文件\n",
    "    # 训练集中共151封邮件内容，0.txt到126.txt是垃圾邮件内容，127.txt到150.txt为正常邮件内容\n",
    "    txtFiles = ['D:\\\\workspaces\\\\AI\\ip\\\\人工智能\\\\数据集\\\\贝叶斯中文邮件分类\\\\'+ str(i) +'.txt' for i in range(151)]\n",
    "    # 获取训练集中所有邮件中的全部单词\n",
    "    for txtFile in txtFiles:\n",
    "        allWords.append(getWordsFromFile(txtFile))\n",
    "    # 获取并返回出现次数最多的前topN个单词\n",
    "    freq = Counter(chain(*allWords))\n",
    "    return [w[0] for w in freq.most_common(topN)]\n",
    "\n",
    "# 全部训练集中出现次数最多的前600个单词\n",
    "topWords = getTopNWords(600)\n",
    "\n",
    "# 获取特征向量，前600个单词的每个单词在每个邮件中出现的频率\n",
    "vectors = []\n",
    "for words in allWords:\n",
    "    temp = list(map(lambda x: words.count(x), topWords))\n",
    "    vectors.append(temp)\n",
    "\n",
    "vectors = array(vectors)\n",
    "# 训练集中每个邮件的标签，1表示垃圾邮件，0表示正常邮件\n",
    "labels = array([1]*127 + [0]*24)\n",
    "\n",
    "# 创建模型，使用已知训练集进行训练\n",
    "model = MultinomialNB()\n",
    "model.fit(vectors, labels)\n",
    "\n",
    "def predict(txtFile):\n",
    "    # 获取指定邮件文件内容，返回分类结果\n",
    "    words = getWordsFromFile(txtFile)\n",
    "    currentVector = array(tuple(map(lambda x: words.count(x),\n",
    "                                    topWords)))\n",
    "    result = model.predict(currentVector.reshape(1, -1))[0]\n",
    "    print(model.predict_proba(currentVector.reshape(1, -1)))\n",
    "    return '垃圾邮件' if result==1 else '正常邮件'\n",
    "\n",
    "# 151.txt至155.txt为测试邮件内容\n",
    "for mail in ('D:\\\\workspaces\\\\AI\\ip\\\\人工智能\\\\数据集\\\\贝叶斯中文邮件分类\\\\'+ str(i) +'.txt' for i in range(151, 156)):\n",
    "    print(mail, predict(mail), sep=':')\n"
   ]
  },
  {
   "cell_type": "markdown",
   "id": "8edf0760",
   "metadata": {},
   "source": [
    "# 决策树算法验证实验"
   ]
  },
  {
   "cell_type": "code",
   "execution_count": 18,
   "id": "6618ebc9",
   "metadata": {},
   "outputs": [
    {
     "data": {
      "text/plain": [
       "DecisionTreeClassifier()"
      ]
     },
     "execution_count": 18,
     "metadata": {},
     "output_type": "execute_result"
    }
   ],
   "source": [
    "import numpy as np\n",
    "from sklearn import tree\n",
    "# 数据\n",
    "X = np.array([[0, 0, 0], [0, 0, 1], [0, 1, 0], [0, 1, 1],[1, 0, 0], [1, 0, 1], [1, 1, 0], [1, 1, 1]])\n",
    "y=[0,1,1,1,2,3,3,4]\n",
    "# 创建决策树分类器\n",
    "clf=tree.DecisionTreeClassifier()\n",
    "clf.fit(X,y)"
   ]
  },
  {
   "cell_type": "code",
   "execution_count": 19,
   "id": "543046d2",
   "metadata": {},
   "outputs": [
    {
     "data": {
      "text/plain": [
       "array([2])"
      ]
     },
     "execution_count": 19,
     "metadata": {},
     "output_type": "execute_result"
    }
   ],
   "source": [
    "# 预测\n",
    "clf.predict([[1,0,0]])"
   ]
  },
  {
   "cell_type": "code",
   "execution_count": 20,
   "id": "bd91e013",
   "metadata": {},
   "outputs": [
    {
     "data": {
      "text/plain": [
       "'result.pdf'"
      ]
     },
     "execution_count": 20,
     "metadata": {},
     "output_type": "execute_result"
    }
   ],
   "source": [
    "import graphviz\n",
    "# 导出决策树\n",
    "dot_data=tree.export_graphviz(clf,out_file=None)\n",
    "# 创建图形\n",
    "graph= graphviz.Source(dot_data) \n",
    "# 输出pdf文件\n",
    "graph.render('result')"
   ]
  },
  {
   "cell_type": "markdown",
   "id": "c4e13a0b",
   "metadata": {},
   "source": [
    "# 随机森林算法验证实验"
   ]
  },
  {
   "cell_type": "code",
   "execution_count": 24,
   "id": "0e4a9cdb",
   "metadata": {},
   "outputs": [
    {
     "name": "stdout",
     "output_type": "stream",
     "text": [
      "决策树列表：\n",
      " [DecisionTreeClassifier(max_depth=3, max_features=0.1, min_samples_split=5,\n",
      "                       random_state=1472343649), DecisionTreeClassifier(max_depth=3, max_features=0.1, min_samples_split=5,\n",
      "                       random_state=1186964593), DecisionTreeClassifier(max_depth=3, max_features=0.1, min_samples_split=5,\n",
      "                       random_state=908734354), DecisionTreeClassifier(max_depth=3, max_features=0.1, min_samples_split=5,\n",
      "                       random_state=170574379)]\n",
      "类标签列表：\n",
      " [0 1]\n",
      "特征数量：\n",
      " 6\n",
      "每个特征的重要性：\n",
      " [0.36057401 0.10048943 0.00662619 0.08927064 0.27175868 0.17128105]\n",
      "预测结果：\n",
      " [1]\n"
     ]
    },
    {
     "name": "stderr",
     "output_type": "stream",
     "text": [
      "D:\\Anaconda3\\envs\\test\\lib\\site-packages\\sklearn\\utils\\deprecation.py:103: FutureWarning: Attribute `n_features_` was deprecated in version 1.0 and will be removed in 1.2. Use `n_features_in_` instead.\n",
      "  warnings.warn(msg, category=FutureWarning)\n"
     ]
    }
   ],
   "source": [
    "from sklearn.datasets import make_classification\n",
    "from sklearn.ensemble import RandomForestClassifier\n",
    "\n",
    "# 生成测试数据\n",
    "X, y = make_classification(n_samples=800,     # 800个样本\n",
    "        n_features=6,      # 每个样本6个特征\n",
    "        n_informative=4,   # 4个有用特征\n",
    "        n_redundant=2,     # 2个冗余特征\n",
    "        n_classes=2,       # 全部样本分2类\n",
    "        shuffle=True)\n",
    "clf = RandomForestClassifier(n_estimators=4,  # 4个决策树\n",
    "                             max_depth=3,     # 最多3层\n",
    "                             criterion='gini', max_features=0.1, min_samples_split=5)\n",
    "clf.fit(X, y)\n",
    "# 包含拟合好的决策树的列表\n",
    "print('决策树列表：\\n', clf.estimators_)\n",
    "# 类标签\n",
    "print('类标签列表：\\n', clf.classes_)\n",
    "# 执行fit()时特征的数量\n",
    "print('特征数量：\\n', clf.n_features_)\n",
    "# 包含每个特征重要性的列表，值越大表示该特征越重要\n",
    "print('每个特征的重要性：\\n', clf.feature_importances_)\n",
    "\n",
    "x = [[1]*6]\n",
    "print('预测结果：\\n', clf.predict(x))"
   ]
  },
  {
   "cell_type": "markdown",
   "id": "79aef0aa",
   "metadata": {},
   "source": [
    "* 判断学员的Python水平"
   ]
  },
  {
   "cell_type": "code",
   "execution_count": 26,
   "id": "05521f52",
   "metadata": {},
   "outputs": [
    {
     "name": "stdout",
     "output_type": "stream",
     "text": [
      "=========\n",
      "你看过董付国老师的 《Python程序设计基础（第2版）》 吗？\n",
      "没看过输入0，很多看不懂输入1，大部分可以看懂输入2，没压力输入3\n",
      "请输入：3\n",
      "=========\n",
      "你看过董付国老师的 《Python程序设计基础与应用》 吗？\n",
      "没看过输入0，很多看不懂输入1，大部分可以看懂输入2，没压力输入3\n",
      "请输入：3\n",
      "=========\n",
      "你看过董付国老师的 《Python程序设计（第2版）》 吗？\n",
      "没看过输入0，很多看不懂输入1，大部分可以看懂输入2，没压力输入3\n",
      "请输入：0\n",
      "=========\n",
      "你看过董付国老师的 《大数据的Python基础》 吗？\n",
      "没看过输入0，很多看不懂输入1，大部分可以看懂输入2，没压力输入3\n",
      "请输入：6\n",
      "输入无效，请重新输入。\n",
      "没看过输入0，很多看不懂输入1，大部分可以看懂输入2，没压力输入3\n",
      "请输入：0\n",
      "=========\n",
      "你看过董付国老师的 《Python程序设计开发宝典》 吗？\n",
      "没看过输入0，很多看不懂输入1，大部分可以看懂输入2，没压力输入3\n",
      "请输入：0\n",
      "=========\n",
      "你看过董付国老师的 《Python可以这样学》 吗？\n",
      "没看过输入0，很多看不懂输入1，大部分可以看懂输入2，没压力输入3\n",
      "请输入：3\n",
      "=========\n",
      "你看过董付国老师的 《中学生可以这样学Python》 吗？\n",
      "没看过输入0，很多看不懂输入1，大部分可以看懂输入2，没压力输入3\n",
      "请输入：0\n",
      "=========\n",
      "你看过董付国老师的 《Python编程基础与案例集锦（中学版）》 吗？\n",
      "没看过输入0，很多看不懂输入1，大部分可以看懂输入2，没压力输入3\n",
      "请输入：3\n",
      "=========\n",
      "你看过董付国老师的 《玩转Python轻松过二级》 吗？\n",
      "没看过输入0，很多看不懂输入1，大部分可以看懂输入2，没压力输入3\n",
      "请输入：2\n",
      "=========\n",
      "你看过董付国老师的 微信公众号“Python小屋”的免费资料 吗？\n",
      "没看过输入0，很多看不懂输入1，大部分可以看懂输入2，没压力输入3\n",
      "请输入：0\n",
      "['门外汉']\n"
     ]
    }
   ],
   "source": [
    "from sklearn import tree\n",
    "import numpy as np\n",
    "# s数据\n",
    "questions = ('《Python程序设计基础（第2版）》',\n",
    "             '《Python程序设计基础与应用》',\n",
    "             '《Python程序设计（第2版）》',\n",
    "             '《大数据的Python基础》',\n",
    "             '《Python程序设计开发宝典》',\n",
    "             '《Python可以这样学》',\n",
    "             '《中学生可以这样学Python》',\n",
    "             '《Python编程基础与案例集锦（中学版）》',\n",
    "             '《玩转Python轻松过二级》',\n",
    "             '微信公众号“Python小屋”的免费资料',)\n",
    "# 每个样本的数据含义：\n",
    "# 0没看过，1很多看不懂，2大部分可以看懂，3没压力\n",
    "answers = [[3, 3, 3, 3, 3, 3, 3, 3, 3, 3],\n",
    "           [0, 0, 0, 0, 0, 0, 0, 0, 0, 0],\n",
    "           [1, 1, 1, 1, 1, 1, 1, 1, 1, 1],\n",
    "           [0, 0, 0, 0, 0, 0, 2, 2, 0, 1],\n",
    "           [0, 0, 0, 0, 3, 3, 0, 0, 0, 3],\n",
    "          \n",
    "           [3, 3, 0, 3, 0, 0, 0, 0, 3, 1],\n",
    "           [3, 0, 3, 0, 3, 0, 0, 3, 3, 2],\n",
    "           [0, 0, 3, 0, 3, 3, 0, 0, 0, 3],\n",
    "           [2, 2, 0, 2, 0, 0, 0, 0, 0, 1],\n",
    "           [0, 2, 1, 3, 1, 1, 0, 0, 2, 1]\n",
    "          ]\n",
    "\n",
    "labels = ['超级高手', '门外汉', '初级选手', '初级选手', '高级选手',\n",
    "          '中级选手', '高级选手', '超级高手', '初级选手', '初级选手']\n",
    "\n",
    "clf = tree.DecisionTreeClassifier().fit(answers, labels) # 训练\n",
    "\n",
    "yourAnswer = []\n",
    "# 显示调查问卷，并接收用户输入\n",
    "for question in questions:\n",
    "    print('=========\\n你看过董付国老师的', question, '吗？')\n",
    "    # 确保输入有效\n",
    "    while True:\n",
    "        print('没看过输入0，很多看不懂输入1，'\n",
    "               '大部分可以看懂输入2，没压力输入3')\n",
    "        try:\n",
    "            answer = int(input('请输入：'))\n",
    "            assert 0<=answer<=3\n",
    "            break\n",
    "        except:\n",
    "            print('输入无效，请重新输入。')\n",
    "            pass\n",
    "    yourAnswer.append(answer)\n",
    "    \n",
    "print(clf.predict(np.array(yourAnswer).reshape(1,-1)))   # 分类"
   ]
  },
  {
   "cell_type": "markdown",
   "id": "1e9753db",
   "metadata": {},
   "source": [
    "# 支持向量机算法对手写数字图像进行分类"
   ]
  },
  {
   "cell_type": "code",
   "execution_count": 4,
   "id": "a1fd7778",
   "metadata": {},
   "outputs": [
    {
     "name": "stdout",
     "output_type": "stream",
     "text": [
      "数据加载完成。\n",
      "模型训练完成。\n",
      "模型测试得分： 1.0\n"
     ]
    }
   ],
   "source": [
    "from os import mkdir,listdir\n",
    "from os.path import isdir,basename\n",
    "from random import choice,randrange\n",
    "from string import digits\n",
    "from PIL import Image,ImageDraw\n",
    "from PIL.ImageFont import truetype\n",
    "from sklearn import svm\n",
    "from sklearn.model_selection import train_test_split\n",
    "\n",
    "# 图像尺寸、图片中的数字字体大小、噪点比例\n",
    "width, height = 30, 60\n",
    "fontSize = 40\n",
    "noiseRate = 8\n",
    "\n",
    "# 生成图片\n",
    "def generateDigits(dstDir='D:\\\\workspaces\\\\AI\\\\ip\\\\人工智能\\\\数据集\\\\datasets', num=1000):\n",
    "    # 生成num个包含数字的图片文件存放于datasets子目录\n",
    "    if not isdir(dstDir):\n",
    "        mkdir(dstDir)\n",
    "        \n",
    "    # digits.txt用来存储每个图片对应的数字\n",
    "    with open(dstDir+'\\\\digits.txt', 'w') as fp:\n",
    "        for i in range(num):\n",
    "            # 随机选择一个数字，生成对应的彩色图像文件\n",
    "            digit = choice(digits)\n",
    "            im = Image.new('RGB', (width,height), (255,255,255))\n",
    "            imDraw = ImageDraw.Draw(im)\n",
    "            font = truetype('c:\\\\windows\\\\fonts\\\\TIMESBD.TTF', fontSize)\n",
    "            # 写入黑色数字\n",
    "            imDraw.text((0,0), digit, font=font, fill=(0,0,0))\n",
    "            # 加入随机干扰\n",
    "            for j in range(int(noiseRate*width*height)):\n",
    "                w, h = randrange(1, width-1), randrange(height)\n",
    "                # 水平交换两个相邻像素的颜色\n",
    "                c1 = im.getpixel((w,h))\n",
    "                c2 = im.getpixel((w+1,h))                \n",
    "                imDraw.point((w,h), fill=c2)\n",
    "                imDraw.point((w+1,h), fill=c1)\n",
    "            im.save(dstDir+'\\\\'+str(i)+'.jpg')\n",
    "            fp.write(digit+'\\n')\n",
    "\n",
    "# 加载图片\n",
    "def loadDigits(dstDir='D:\\\\workspaces\\\\AI\\\\ip\\\\人工智能\\\\数据集\\\\datasets'):\n",
    "    # 获取所有图像文件名\n",
    "    digitsFile = [dstDir+'\\\\'+fn for fn in listdir(dstDir) if fn.endswith('.jpg')]\n",
    "    # 按编号排序\n",
    "    digitsFile.sort(key=lambda fn: int(basename(fn)[:-4]))\n",
    "    # digitsData用于存放读取的图片中数字信息\n",
    "    # 每个图片中所有像素值存放于digitsData中的一行数据\n",
    "    digitsData = []\n",
    "    for fn in digitsFile:\n",
    "        with Image.open(fn) as im:\n",
    "            # getpixel()方法用来读取指定位置像素的颜色值\n",
    "            data = [sum(im.getpixel((w,h)))/len(im.getpixel((w,h)))\n",
    "                    for w in range(width)\n",
    "                    for h in range(height)]\n",
    "            digitsData.append(data)\n",
    "            \n",
    "    # digitsLabel用于存放图片中数字的标准分类\n",
    "    with open(dstDir+'\\\\digits.txt') as fp:\n",
    "        digitsLabel = fp.readlines()\n",
    "    # 删除数字字符两侧的空白字符\n",
    "    digitsLabel = [label.strip() for label in digitsLabel]\n",
    "    return (digitsData, digitsLabel)\n",
    "\n",
    "# 生成图片文件\n",
    "generateDigits(num=1000)\n",
    "# 加载数据\n",
    "data = loadDigits()\n",
    "print('数据加载完成。')\n",
    "\n",
    "# 随机划分训练集和测试集，其中参数test_size用来指定测试集大小\n",
    "X_train, X_test, y_train, y_test = train_test_split(data[0], data[1], test_size=0.1)\n",
    "# 创建并训练模型\n",
    "svcClassifier = svm.SVC(kernel=\"linear\", C=1000, gamma=0.001)\n",
    "svcClassifier.fit(X_train, y_train)\n",
    "print('模型训练完成。')\n",
    "\n",
    "# 使用测试集对模型进行评分\n",
    "score = svcClassifier.score(X_test, y_test)\n",
    "print('模型测试得分：', score)\n",
    "\n"
   ]
  },
  {
   "cell_type": "markdown",
   "id": "442f93b9",
   "metadata": {},
   "source": [
    "# KNN算法判断交通工具"
   ]
  },
  {
   "cell_type": "code",
   "execution_count": 4,
   "id": "8e94e748",
   "metadata": {
    "scrolled": true
   },
   "outputs": [
    {
     "name": "stdout",
     "output_type": "stream",
     "text": [
      "[931 487 764 741]:高铁\n",
      "[ 46 194  77 975]:普通火车\n",
      "[402 542 355 784]:高铁\n",
      "[182 781 446 366]:飞机\n",
      "[685 867 805 203]:飞机\n",
      "[ 45 156 989 639]:高铁\n",
      "[620 304 919 515]:高铁\n",
      "[125 925 922 749]:高铁\n",
      "[536 918 546 642]:飞机\n",
      "[ 27 755 948 288]:飞机\n",
      "[232  32 265 662]:普通火车\n",
      "[975 243 921  72]:高铁\n",
      "[869 941 104  96]:飞机\n",
      "[827 449 849 867]:高铁\n",
      "[334  49 147 106]:普通火车\n",
      "[745 231 874 305]:高铁\n",
      "[640 850 192 704]:高铁\n",
      "[412 371 183 582]:高铁\n",
      "[279 746 715 241]:飞机\n",
      "[944 312 894 662]:高铁\n"
     ]
    }
   ],
   "source": [
    "from sklearn.neighbors import KNeighborsClassifier\n",
    "import numpy as np\n",
    "\n",
    "# X中存储交通工具的参数\n",
    "# 总长度（米）、时速（km/h）、重量（吨）、座位数量\n",
    "X = [[96, 85, 120, 400],        # 普通火车\n",
    "      [144, 92, 200, 600],\n",
    "      [240, 87, 350, 1000],\n",
    "      [360, 90, 495, 1300],\n",
    "      [384, 91, 530, 1405],\n",
    "      [240, 360, 490, 800],      # 高铁\n",
    "      [360, 380, 750, 1200],\n",
    "      [290, 380, 480, 960],\n",
    "      [120, 320, 160, 400],\n",
    "      [384, 340, 520, 1280],\n",
    "      [33.4, 918, 77, 180],      # 飞机\n",
    "      [33.6, 1120, 170.5, 185],\n",
    "      [39.5, 785, 230, 240],\n",
    "      [33.84, 940, 150, 195],\n",
    "      [44.5, 920, 275, 275],\n",
    "      [75.3, 1050, 575, 490]]\n",
    "# y中存储类别，0表示普通火车，1表示高铁，2表示飞机\n",
    "y = [0]*5+[1]*5+[2]*6\n",
    "# labels中存储对应的交通工具名称\n",
    "labels = ('普通火车', '高铁', '飞机')\n",
    "\n",
    "# 创建并训练模型\n",
    "knn = KNeighborsClassifier(n_neighbors=3, weights='distance')\n",
    "knn.fit(X, y)\n",
    "\n",
    "# 对未知样本进行分类\n",
    "# unKnown = [[300, 79, 320, 900], [36.7, 800, 190, 220]]\n",
    "unKnown=np.random.randint(0,1000,size=(20,4))\n",
    "result = knn.predict(unKnown)\n",
    "for para, index in zip(unKnown, result):\n",
    "    print(para, labels[index], sep=':')\n"
   ]
  },
  {
   "cell_type": "markdown",
   "id": "d06aaad7",
   "metadata": {},
   "source": [
    "# KMeans聚类算法压缩图像颜色"
   ]
  },
  {
   "cell_type": "code",
   "execution_count": 6,
   "id": "5383b4f0",
   "metadata": {},
   "outputs": [
    {
     "data": {
      "image/png": "[encoded data removed]",
      "text/plain": [
       "<Figure size 432x288 with 1 Axes>"
      ]
     },
     "metadata": {
      "needs_background": "light"
     },
     "output_type": "display_data"
    }
   ],
   "source": [
    "import numpy as np\n",
    "from sklearn.cluster import KMeans\n",
    "from PIL import Image\n",
    "import matplotlib.pyplot as plt\n",
    "\n",
    "# 打开并读取原始图像中像素颜色值，转换为三维数组\n",
    "imOrigin = Image.open('D:\\\\workspaces\\\\AI\\\\ip\\\\人工智能\\\\数据集\\\\颜色压缩测试图像.jpg')\n",
    "dataOrigin = np.array(imOrigin)\n",
    "# 然后再转换为二维数组，-1表示自动计算该维度的大小\n",
    "data = dataOrigin.reshape(-1,3)\n",
    "\n",
    "# 使用KMeans算法把所有像素的颜色值划分为4类\n",
    "kmeansPredicter = KMeans(n_clusters=4)\n",
    "kmeansPredicter.fit(data)\n",
    "\n",
    "# 使用每个像素所属类的中心值替换该像素的颜色\n",
    "# temp中存放每个数据所属类的标签\n",
    "temp = kmeansPredicter.labels_\n",
    "dataNew = kmeansPredicter.cluster_centers_[temp]\n",
    "dataNew.shape = dataOrigin.shape\n",
    "dataNew = np.uint8(dataNew)\n",
    "plt.imshow(dataNew)\n",
    "plt.imsave('D:\\\\workspaces\\\\AI\\\\ip\\\\人工智能\\\\数据集\\\\结果图像.jpg', dataNew)\n",
    "plt.show()"
   ]
  },
  {
   "cell_type": "markdown",
   "id": "645e189d",
   "metadata": {},
   "source": [
    "# 分层聚类算法验证实验"
   ]
  },
  {
   "cell_type": "code",
   "execution_count": 9,
   "id": "b197f327",
   "metadata": {},
   "outputs": [
    {
     "name": "stdout",
     "output_type": "stream",
     "text": [
      "[[-3.11037324e+00  2.05747766e+00]\n",
      " [-4.13293090e+00 -2.01096221e+00]\n",
      " [-5.28296523e+00 -2.18633537e+00]\n",
      " [ 4.83613384e+00 -3.68420211e+00]\n",
      " [-1.72029984e+00  2.06386822e+00]\n",
      " [ 9.19674562e-01  3.83782992e+00]\n",
      " [-3.46937847e+00  2.45543869e+00]\n",
      " [-3.45443644e-01  5.26066984e+00]\n",
      " [-5.03777630e+00  1.90477775e+00]\n",
      " [-5.13770547e+00 -2.40036240e+00]\n",
      " [-5.39866035e+00 -9.48524750e-01]\n",
      " [-3.65454148e+00 -2.25846011e+00]\n",
      " [ 2.73847877e-01  6.66301117e+00]\n",
      " [-4.12594032e+00  2.86459479e+00]\n",
      " [-1.37961058e+00  2.05700871e+00]\n",
      " [-1.51131961e+00  6.16835522e+00]\n",
      " [-6.47362296e+00 -1.72717674e+00]\n",
      " [-2.77926993e+00  2.72645884e+00]\n",
      " [-2.95899298e+00 -1.07378920e+00]\n",
      " [-6.86721330e-01  6.37839997e+00]\n",
      " [-7.66736365e-01  5.41054896e+00]\n",
      " [-2.94434594e+00 -6.85196072e-01]\n",
      " [ 4.21089409e+00 -3.60183495e+00]\n",
      " [ 6.07889065e+00 -3.40165671e+00]\n",
      " [-4.82221133e+00 -1.52564850e+00]\n",
      " [-5.28310443e+00 -1.40073740e+00]\n",
      " [-3.75109629e+00 -4.02110847e-01]\n",
      " [-2.80231810e+00  1.21797510e+00]\n",
      " [-6.02625765e-01  7.01138210e+00]\n",
      " [-2.29707135e+00  2.40025302e+00]\n",
      " [-9.62032623e-01  6.16022809e+00]\n",
      " [-3.63782771e+00 -1.15233917e+00]\n",
      " [-3.35015056e+00  3.20945655e+00]\n",
      " [-3.13230198e+00 -2.21713555e+00]\n",
      " [ 9.76990470e-02  4.76653267e+00]\n",
      " [-4.40564613e+00 -4.36119021e-01]\n",
      " [ 4.71367323e+00 -2.44965139e+00]\n",
      " [ 2.75968604e+00 -4.07123748e+00]\n",
      " [-9.70037448e-01  5.07137662e+00]\n",
      " [-5.07500196e+00 -1.53173374e+00]\n",
      " [ 1.48640441e+00  7.27963798e+00]\n",
      " [-4.69777526e+00 -1.89483931e+00]\n",
      " [-4.83895449e+00 -2.29005419e+00]\n",
      " [ 3.92281756e+00 -3.20829377e+00]\n",
      " [ 3.82399994e+00 -2.89076899e+00]\n",
      " [ 8.12404391e-01  5.94302435e+00]\n",
      " [ 2.80217317e+00 -4.86998440e+00]\n",
      " [-3.52644748e+00 -9.38861938e-02]\n",
      " [-5.50696967e+00 -2.26298563e+00]\n",
      " [ 2.66755246e+00 -4.75700367e+00]\n",
      " [ 1.29091338e+00 -4.07769511e+00]\n",
      " [ 4.80483979e+00 -3.78371380e+00]\n",
      " [ 5.52263068e+00 -3.21173612e+00]\n",
      " [-3.63010945e+00  2.96946977e+00]\n",
      " [-7.24998362e+00 -7.19131370e-01]\n",
      " [-1.74326935e+00  6.74015763e+00]\n",
      " [-1.90876887e+00  4.39362153e+00]\n",
      " [ 3.53707474e+00 -3.39319499e+00]\n",
      " [ 1.80681957e-01  4.06096456e+00]\n",
      " [-3.51493714e+00  2.17441299e+00]\n",
      " [ 4.19273677e+00 -3.44765392e+00]\n",
      " [ 1.34885114e+00  5.09217505e+00]\n",
      " [-3.28648492e-02  5.38343674e+00]\n",
      " [-4.16348955e+00  2.24999267e+00]\n",
      " [-4.30251489e+00  2.40384258e+00]\n",
      " [-4.77572964e+00 -1.57168156e+00]\n",
      " [ 1.40180773e-02  5.47527514e+00]\n",
      " [-4.69062008e+00 -1.17035377e+00]\n",
      " [-3.63038950e+00  7.08905172e-01]\n",
      " [-4.49363887e+00 -2.77819214e+00]\n",
      " [-3.44866796e+00  1.86986066e+00]\n",
      " [-4.84575557e+00  3.75491679e+00]\n",
      " [-3.72500720e-01  6.56643897e+00]\n",
      " [-4.13069829e+00  2.77489717e+00]\n",
      " [ 2.95853399e+00 -5.41822849e+00]\n",
      " [-4.69173362e+00 -4.85067604e+00]\n",
      " [-3.21233974e+00  2.70653070e+00]\n",
      " [-1.63206657e+00  3.95092610e+00]\n",
      " [ 9.03963844e-01  6.58676328e+00]\n",
      " [ 2.82364020e+00 -3.34469896e+00]\n",
      " [ 4.61100286e+00 -3.75968897e+00]\n",
      " [-3.85438603e+00  2.87609490e+00]\n",
      " [ 9.75540945e-01  5.79271510e+00]\n",
      " [ 3.59747535e-01  3.71773667e+00]\n",
      " [ 7.18356132e-01  5.83671274e+00]\n",
      " [-1.07154473e+00  4.93811375e+00]\n",
      " [-1.14813949e+00  7.19890841e+00]\n",
      " [ 1.99196909e-01  4.94780251e+00]\n",
      " [ 3.82340260e+00 -3.89096673e+00]\n",
      " [ 6.03883054e+00 -4.14895175e+00]\n",
      " [ 4.04806792e-01  6.28198093e+00]\n",
      " [-7.55070833e+00 -4.69161597e-01]\n",
      " [-5.54582393e+00 -1.97316073e+00]\n",
      " [-3.30944961e+00 -2.79021358e-02]\n",
      " [ 5.21052468e+00 -4.30202610e+00]\n",
      " [ 4.47118028e+00 -4.59305051e+00]\n",
      " [-2.31777994e+00  2.44950912e+00]\n",
      " [-4.66998662e+00 -1.30215969e+00]\n",
      " [ 1.84957710e-01  5.79376061e+00]\n",
      " [ 1.10498448e+00  5.33587514e+00]\n",
      " [-4.07888781e+00  1.09222348e+00]\n",
      " [ 4.60422887e+00 -4.90054803e+00]\n",
      " [ 3.95419765e+00 -4.08306261e+00]\n",
      " [ 5.20372411e+00 -5.08227760e+00]\n",
      " [-2.70684393e+00  2.95199378e+00]\n",
      " [-4.37090204e+00 -1.59984113e+00]\n",
      " [-1.46205181e+00  2.99008195e+00]\n",
      " [-1.09093661e+00  3.97083341e+00]\n",
      " [-3.74542588e+00 -5.78599567e-01]\n",
      " [ 9.70609687e-01  6.22828428e+00]\n",
      " [-3.46061291e+00  1.65407436e+00]\n",
      " [-1.02847275e+00  6.27449725e+00]\n",
      " [-5.19493411e+00 -1.47975088e+00]\n",
      " [-5.05068220e+00 -2.55098629e+00]\n",
      " [-4.39275211e+00 -1.78209408e+00]\n",
      " [-2.91076377e+00  2.71481178e+00]\n",
      " [-2.77840772e+00  2.37955122e+00]\n",
      " [ 3.61818887e+00 -5.02604175e+00]\n",
      " [ 3.22444489e+00 -2.75546348e+00]\n",
      " [-3.81044993e+00 -1.30662873e+00]\n",
      " [ 2.39086376e+00 -4.25506799e+00]\n",
      " [-5.06435301e+00 -1.63824801e+00]\n",
      " [ 3.64793296e+00 -2.96634838e+00]\n",
      " [ 2.75913439e-01  5.70672302e+00]\n",
      " [ 2.86921300e+00 -2.91021376e+00]\n",
      " [ 3.21572144e+00 -2.51479531e+00]\n",
      " [-2.37277756e+00  3.38962253e+00]\n",
      " [ 1.17518557e-01  5.58253791e+00]\n",
      " [-2.67918570e-01  6.39576142e+00]\n",
      " [-3.28668666e+00  3.16079508e+00]\n",
      " [ 2.74585673e+00 -3.67086979e+00]\n",
      " [-3.67638309e+00 -1.59061664e+00]\n",
      " [-4.58655214e+00 -1.69864093e+00]\n",
      " [ 3.53121658e-01  5.86456966e+00]\n",
      " [ 3.80749264e-01  4.98095842e+00]\n",
      " [-2.93018813e-01  5.54885155e+00]\n",
      " [-3.75536357e+00  1.36785473e+00]\n",
      " [-5.86302019e+00 -1.76655300e+00]\n",
      " [ 4.51855634e-02  4.80510118e+00]\n",
      " [-4.18160976e+00 -2.30714930e+00]\n",
      " [ 4.35873490e+00 -5.38838773e+00]\n",
      " [-1.91815982e+00  2.48455596e+00]\n",
      " [-3.85190219e+00  2.40583977e+00]\n",
      " [-3.14300248e+00  3.19078593e+00]\n",
      " [ 3.04392528e+00 -4.48553042e+00]\n",
      " [-5.25785530e+00 -1.62938459e-01]\n",
      " [-5.38207660e-01  5.28978173e+00]\n",
      " [-2.93425745e+00  3.63786689e+00]\n",
      " [ 4.80533946e+00 -2.18729458e+00]\n",
      " [-5.85914241e+00  3.86181551e+00]\n",
      " [ 4.23456897e+00 -4.38019058e+00]\n",
      " [-5.66947793e+00 -1.92049159e+00]\n",
      " [-1.75478288e+00  4.42416342e+00]\n",
      " [ 4.73218499e+00 -2.35144307e+00]\n",
      " [ 5.71725257e+00 -4.92379683e+00]\n",
      " [ 3.86606568e+00 -3.24758344e+00]\n",
      " [-3.19365891e+00  3.81342190e+00]\n",
      " [-6.28950901e+00 -1.45690272e+00]\n",
      " [-3.87688150e+00 -2.17128175e+00]\n",
      " [ 6.79987302e-01  5.20608147e+00]\n",
      " [-4.93649699e+00 -3.14896052e+00]\n",
      " [ 2.92457217e-03  6.56640763e+00]\n",
      " [ 3.32032289e+00 -3.98899621e+00]\n",
      " [-3.51642001e+00  2.54104509e+00]\n",
      " [-3.74587516e+00  2.28805964e-01]\n",
      " [ 8.60284862e-01  4.20372422e+00]\n",
      " [-4.31569646e+00 -8.73542763e-01]\n",
      " [ 2.69991411e+00 -4.17367676e+00]\n",
      " [-2.31193473e+00  3.99966154e+00]\n",
      " [-1.11732380e+00  4.48054608e+00]\n",
      " [-3.09519720e+00  2.26661308e+00]\n",
      " [ 3.10445936e+00 -3.41606326e+00]\n",
      " [-4.95324511e+00  3.00539127e+00]\n",
      " [-4.75098493e+00  1.07632739e-01]\n",
      " [-5.41869879e+00 -2.48177649e-01]\n",
      " [-5.34683727e-01  4.71530471e+00]\n",
      " [ 4.83747573e+00 -3.15760760e+00]\n",
      " [-3.78540576e+00  2.63239838e+00]\n",
      " [ 4.94305017e+00 -4.37947644e+00]\n",
      " [-1.34187777e-01  5.12818484e+00]\n",
      " [-3.67096271e+00  2.47598398e+00]\n",
      " [-3.02073426e+00  2.96047459e+00]\n",
      " [-3.83488186e+00  8.18976401e-01]\n",
      " [-3.29894755e+00  2.68281456e+00]\n",
      " [ 3.84888724e-03  3.09922695e+00]\n",
      " [ 4.70497288e+00 -3.95218393e+00]\n",
      " [ 7.51150993e-01  6.42074907e+00]\n",
      " [ 2.90730542e+00 -5.00649044e+00]\n",
      " [ 2.21214920e+00 -3.49636047e+00]\n",
      " [-3.92800507e+00  2.96645457e+00]\n",
      " [-4.22786098e+00 -1.39126887e+00]\n",
      " [ 4.81558901e+00 -3.48566943e+00]\n",
      " [ 2.77273809e+00 -3.00275978e+00]\n",
      " [ 3.53750139e+00 -3.59091932e+00]\n",
      " [-3.24660305e+00  1.13361390e+00]\n",
      " [ 4.08486758e+00 -4.38546190e+00]\n",
      " [-5.21331796e+00 -7.18973858e-01]\n",
      " [-4.87682644e+00 -4.74622923e-01]\n",
      " [-2.53651547e-01  6.20463143e+00]\n",
      " [-2.61965427e+00  2.37917105e+00]]\n"
     ]
    },
    {
     "data": {
      "image/png": "[encoded data removed]",
      "text/plain": [
       "<Figure size 432x288 with 1 Axes>"
      ]
     },
     "metadata": {
      "needs_background": "light"
     },
     "output_type": "display_data"
    },
    {
     "data": {
      "image/png": "[encoded data removed]",
      "text/plain": [
       "<Figure size 432x288 with 1 Axes>"
      ]
     },
     "metadata": {
      "needs_background": "light"
     },
     "output_type": "display_data"
    }
   ],
   "source": [
    "import numpy as np\n",
    "import matplotlib.pyplot as plt\n",
    "from sklearn.datasets import make_blobs\n",
    "from sklearn.cluster import AgglomerativeClustering\n",
    "\n",
    "def AgglomerativeTest(n_clusters):\n",
    "    assert 1 <= n_clusters <= 4\n",
    "    predictResult = AgglomerativeClustering(n_clusters=n_clusters, affinity='euclidean',\n",
    "                                            linkage='ward').fit_predict(data)\n",
    "    # 定义绘制散点图时使用的颜色和散点符号\n",
    "    colors = 'rgby'\n",
    "    markers = 'o*v+'\n",
    "    # 依次使用不同的颜色和符号绘制每个类的散点图\n",
    "    for i in range(n_clusters):\n",
    "        subData = data[predictResult==i]\n",
    "        plt.scatter(subData[:,0], subData[:,1], c=colors[i], marker=markers[i], s=40)\n",
    "    plt.show()\n",
    "\n",
    "\n",
    "# 生成随机数据，200个点，分成4类，返回样本及标签\n",
    "data, labels = make_blobs(n_samples=200, centers=4)\n",
    "print(data)\n",
    "AgglomerativeTest(3)\n",
    "AgglomerativeTest(4)\n"
   ]
  },
  {
   "cell_type": "markdown",
   "id": "7593b79a",
   "metadata": {},
   "source": [
    "# DBSCAN算法验证实验"
   ]
  },
  {
   "cell_type": "code",
   "execution_count": 10,
   "id": "dd1a429b",
   "metadata": {},
   "outputs": [
    {
     "data": {
      "image/png": "[encoded data removed]",
      "text/plain": [
       "<Figure size 432x288 with 1 Axes>"
      ]
     },
     "metadata": {
      "needs_background": "light"
     },
     "output_type": "display_data"
    },
    {
     "data": {
      "image/png": "[encoded data removed]",
      "text/plain": [
       "<Figure size 432x288 with 1 Axes>"
      ]
     },
     "metadata": {
      "needs_background": "light"
     },
     "output_type": "display_data"
    }
   ],
   "source": [
    "import numpy as np\n",
    "import matplotlib.pyplot as plt\n",
    "from sklearn.cluster import DBSCAN\n",
    "from sklearn.datasets import make_blobs\n",
    "\n",
    "def DBSCANtest(data, eps=0.6, min_samples=8):\n",
    "    # 聚类\n",
    "    db = DBSCAN(eps=eps, min_samples=min_samples).fit(data)\n",
    "        \n",
    "    # 聚类标签（数组，表示每个样本所属聚类）和所有聚类的数量\n",
    "    # 标签-1对应的样本表示噪点\n",
    "    clusterLabels = db.labels_\n",
    "    uniqueClusterLabels = set(clusterLabels)\n",
    "    # 标记核心对象对应下标为True\n",
    "    coreSamplesMask = np.zeros_like(db.labels_, dtype=bool)\n",
    "    coreSamplesMask[db.core_sample_indices_] = True\n",
    "\n",
    "    # 绘制聚类结果\n",
    "    colors = ['red', 'green', 'blue', 'gray', '#88ff66',\n",
    "              '#ff00ff', '#ffff00', '#8888ff', 'black',]\n",
    "    markers = ['v', '^', 'o', '*', 'h', 'd', 'D', '>', 'x']\n",
    "    for label in uniqueClusterLabels:\n",
    "        # 使用最后一种颜色和符号绘制噪声样本\n",
    "        # clusterIndex是个True/False数组\n",
    "        # 其中True表示对应样本为cluster类\n",
    "        clusterIndex = (clusterLabels==label)\n",
    "        \n",
    "        # 绘制核心对象\n",
    "        coreSamples = data[clusterIndex&coreSamplesMask]\n",
    "        plt.scatter(coreSamples[:, 0], coreSamples[:, 1],\n",
    "                    c=colors[label], marker=markers[label], s=100)\n",
    "\n",
    "        # 绘制非核心对象\n",
    "        nonCoreSamples = data[clusterIndex & ~coreSamplesMask]\n",
    "        plt.scatter(nonCoreSamples[:, 0], nonCoreSamples[:, 1],\n",
    "                    c=colors[label], marker=markers[label], s=20)\n",
    "    plt.show()\n",
    "\n",
    "data, labels = make_blobs(n_samples=300, centers=5)\n",
    "DBSCANtest(data)\n",
    "DBSCANtest(data, 0.8, 15)\n"
   ]
  },
  {
   "cell_type": "markdown",
   "id": "be5fcdaa",
   "metadata": {},
   "source": [
    "# 协同过滤算法进行电影推荐"
   ]
  },
  {
   "cell_type": "code",
   "execution_count": 11,
   "id": "f1c113fe",
   "metadata": {},
   "outputs": [
    {
     "name": "stdout",
     "output_type": "stream",
     "text": [
      "====================known data====================\n",
      "2:4:('user0', {'film10': 4, 'film6': 1, 'film2': 2, 'film5': 2, 'film3': 5, 'film9': 4})\n",
      "4:12:('user1', {'film6': 2, 'film2': 1, 'film9': 3, 'film4': 3, 'film7': 4, 'film3': 4})\n",
      "0:0:('user2', {'film10': 1, 'film14': 5, 'film2': 4, 'film1': 1, 'film5': 3, 'film12': 2})\n",
      "1:4:('user3', {'film8': 4, 'film4': 4, 'film1': 2, 'film13': 1, 'film6': 3, 'film2': 5, 'film14': 5, 'film10': 4})\n",
      "1:0:('user4', {'film10': 1, 'film14': 1, 'film12': 3, 'film3': 5, 'film13': 5})\n",
      "2:10:('user5', {'film11': 1, 'film6': 2, 'film1': 2, 'film9': 5, 'film7': 2, 'film12': 2, 'film13': 2, 'film8': 5})\n",
      "3:18:('user6', {'film2': 1, 'film4': 2, 'film5': 2, 'film11': 2, 'film10': 2, 'film12': 5, 'film7': 4, 'film9': 5})\n",
      "1:4:('user7', {'film2': 3, 'film5': 4, 'film9': 4, 'film8': 1, 'film12': 1})\n",
      "0:0:('user8', {'film12': 3, 'film14': 4, 'film8': 4, 'film2': 2, 'film1': 5, 'film10': 5})\n",
      "1:9:('user9', {'film6': 4, 'film5': 2, 'film10': 4, 'film13': 2, 'film7': 4, 'film2': 2})\n",
      "===================current user===================\n",
      "{'film3': 5, 'film7': 1, 'film9': 2, 'film4': 2}\n",
      "=========most similar user and his films==========\n",
      "user1:{'film6': 2, 'film2': 1, 'film9': 3, 'film4': 3, 'film7': 4, 'film3': 4}\n",
      "=================recommended film=================\n",
      "film6\n"
     ]
    }
   ],
   "source": [
    "from random import randrange\n",
    "\n",
    "# 模拟历史电影打分数据，共10个用户，每个用户打分的电影数量不等\n",
    "data = {'user'+str(i):{'film'+str(randrange(1, 15)):randrange(1, 6) for j in range(randrange(3, 10))}\n",
    "         for i in range(10)}\n",
    "# 寻求推荐的用户对电影打分的数据\n",
    "user = {'film'+str(randrange(1, 15)):randrange(1,6) for i in range(5)}\n",
    "\n",
    "# 最相似的用户及其对电影打分情况\n",
    "# 两个最相似的用户共同打分的电影最多，同时所有电影打分差值的平方和最小\n",
    "rule = lambda item:(-len(item[1].keys()&user),\n",
    "                    sum(((item[1].get(film)-user.get(film))**2 for film in user.keys()&item[1].keys())))\n",
    "similarUser, films = min(data.items(), key=rule)\n",
    "# 输出信息以便验证，每行数据有3列\n",
    "# 分别为该用户与当前用户共同打分的电影数量、打分差的平方和、该用户打分数据\n",
    "print('known data'.center(50, '='))\n",
    "for item in data.items():\n",
    "    print(len(item[1].keys()&user.keys()),\n",
    "          sum(((item[1].get(film)-user.get(film))**2 for film in user.keys()&item[1].keys())),\n",
    "          item, sep=':')\n",
    "print('current user'.center(50, '='), user, sep='\\n')\n",
    "print('most similar user and his films'.center(50, '='))\n",
    "print(similarUser, films, sep=':')\n",
    "print('recommended film'.center(50, '='))\n",
    "# 在当前用户没看过的电影中选择打分最高的进行推荐\n",
    "print(max(films.keys()-user.keys(), key=lambda film: films[film]))\n"
   ]
  },
  {
   "cell_type": "markdown",
   "id": "efe17410",
   "metadata": {},
   "source": [
    "# 使用关联规则分析演员关系"
   ]
  },
  {
   "cell_type": "code",
   "execution_count": 2,
   "id": "57cab84a",
   "metadata": {},
   "outputs": [
    {
     "name": "stdout",
     "output_type": "stream",
     "text": [
      "[('演员3', '演员1'), ('演员4', '演员1'), ('演员3', '演员4'), ('演员3', '演员5'), ('演员4', '演员9')]\n",
      "{'演员4', '演员1'}==>{'演员3'}\n",
      "{'演员1'}==>{'演员3'}\n",
      "{'演员1'}==>{'演员4'}\n",
      "{'演员3'}==>{'演员4'}\n",
      "{'演员4'}==>{'演员3'}\n",
      "{'演员5'}==>{'演员3'}\n",
      "{'演员9'}==>{'演员4'}\n"
     ]
    }
   ],
   "source": [
    "from itertools import chain, combinations\n",
    "from openpyxl import load_workbook\n",
    "\n",
    "def loadDataSet():\n",
    "    '''加载数据，返回包含若干集合的列表'''\n",
    "    # 返回的数据格式为 [{1, 3, 4}, {2, 3, 5}, {1, 2, 3, 5}, {2, 5}]\n",
    "    result = []\n",
    "    # xlsx文件中有3列，分别为电影名称、导演名称、演员清单\n",
    "    # 同一个电影的多个主演演员使用逗号分隔\n",
    "    ws = load_workbook('D:\\\\workspaces\\\\AI\\\\ip\\\\人工智能\\\\数据集\\\\电影导演演员.xlsx').worksheets[0]\n",
    "    for index, row in enumerate(ws.rows):\n",
    "        # 跳过第一行表头\n",
    "        if index==0:\n",
    "            continue\n",
    "        result.append(set(row[2].value.split('，')))\n",
    "    return result\n",
    "\n",
    "def createC1(dataSet):\n",
    "    '''dataSet为包含集合的列表，每个集合表示一个项集\n",
    "       返回包含若干元组的列表，\n",
    "       每个元组为只包含一个物品的项集，所有项集不重复'''\n",
    "    return sorted(map(lambda i:(i,), set(chain(*dataSet))))\n",
    "\n",
    "def scanD(dataSet, Ck, Lk, minSupport):\n",
    "    '''dataSet为包含集合的列表，每个集合表示一个项集\n",
    "       ck为候选项集列表，每个元素为元组\n",
    "       minSupport为最小支持度阈值\n",
    "       返回Ck中支持度大于等于minSupport的那些项集'''\n",
    "    # 数据集总数量\n",
    "    total = len(dataSet)\n",
    "    supportData = {}\n",
    "    for candidate in Ck:\n",
    "        # 加速，k-频繁项集的所有k-1子集都应该是频繁项集\n",
    "        if Lk and (not all(map(lambda item: item in Lk,\n",
    "                                 combinations(candidate,\n",
    "                                               len(candidate)-1)))):\n",
    "            continue\n",
    "        # 遍历每个候选项集，统计该项集在所有数据集中出现的次数\n",
    "        # 这里隐含了一个技巧：True在内部存储为1\n",
    "        set_candidate = set(candidate)\n",
    "        frequencies = sum(map(lambda item: set_candidate<=item,\n",
    "                                dataSet))\n",
    "        # 计算支持度\n",
    "        t = frequencies/total\n",
    "        # 大于等于最小支持度，保留该项集及其支持度\n",
    "        if t >= minSupport:\n",
    "            supportData[candidate] = t\n",
    "    return supportData\n",
    "\n",
    "def aprioriGen(Lk, k):\n",
    "    '''根据k项集生成k+1项集'''\n",
    "    result = []\n",
    "    for index, item1 in enumerate(Lk):\n",
    "        for item2 in Lk[index+1:]:\n",
    "            # 只合并前k-2项相同的项集，避免生成重复项集\n",
    "            # 例如，(1,3)和(2,5)不会合并，\n",
    "            # (2,3)和(2,5)会合并为(2,3,5)，\n",
    "            # (2,3)和(3,5)不会合并，\n",
    "            # (2,3)、(2,5)、(3,5)只能得到一个项集(2,3,5)\n",
    "            if sorted(item1[:k-2]) == sorted(item2[:k-2]):\n",
    "                result.append(tuple(set(item1)|set(item2)))\n",
    "    return result\n",
    "\n",
    "def apriori(dataSet, minSupport=0.5):\n",
    "    '''根据给定数据集dataSet，\n",
    "       返回所有支持度>=minSupport的频繁项集'''\n",
    "    C1 = createC1(dataSet)\n",
    "    supportData = scanD(dataSet, C1, None, minSupport)\n",
    "    k = 2\n",
    "    while True:\n",
    "        # 获取满足最小支持度的k项集\n",
    "        Lk = [key for key in supportData if len(key)==k-1]\n",
    "        # 合并生成k+1项集\n",
    "        Ck = aprioriGen(Lk, k)\n",
    "        # 筛选满足最小支持度的k+1项集\n",
    "        supK = scanD(dataSet, Ck, Lk, minSupport)\n",
    "        # 无法再生成包含更多项的项集，算法结束\n",
    "        if not supK:\n",
    "            break\n",
    "        supportData.update(supK)\n",
    "        k = k+1\n",
    "    return supportData\n",
    "\n",
    "def findRules(supportData, minConfidence=0.5):\n",
    "    '''查找满足最小置信度的关联规则'''\n",
    "    # 对频繁项集按长度降序排列\n",
    "    supportDataL = sorted(supportData.items(),\n",
    "                            key=lambda item:len(item[0]),\n",
    "                            reverse=True)\n",
    "    rules = []\n",
    "    for index, pre in enumerate(supportDataL):\n",
    "        for aft in supportDataL[index+1:]:\n",
    "            # 只查找k-1项集到k项集的关联规则\n",
    "            if len(aft[0]) < len(pre[0])-1:\n",
    "                break\n",
    "            # 当前项集aft[0]是pre[0]的子集\n",
    "            # 且aft[0]==>pre[0]的置信度大于等于最小置信度阈值\n",
    "            if set(aft[0])<set(pre[0]) and\\\n",
    "               pre[1]/aft[1]>=minConfidence:\n",
    "                rules.append([pre[0],aft[0]])\n",
    "    return rules\n",
    "\n",
    "# 加载数据\n",
    "dataSet = loadDataSet()\n",
    "# 获取所有支持度大于0.2的项集\n",
    "supportData = apriori(dataSet, 0.2)\n",
    "# 在所有频繁项集中查找并输出关系较好的演员二人组合\n",
    "bestPair = [item for item in supportData if len(item)==2]\n",
    "print(bestPair)\n",
    "\n",
    "# 查找支持度大于0.6的强关联规则\n",
    "for item in findRules(supportData, 0.6):\n",
    "    pre, aft = map(set, item)\n",
    "    print(aft, pre-aft, sep='==>')\n"
   ]
  },
  {
   "cell_type": "markdown",
   "id": "9f982902",
   "metadata": {},
   "source": [
    "# 使用交叉验证与网格搜索，进行支持向量机分类模型的参数学习，可以在之前的手写数字图像分类实验上进行验证。"
   ]
  },
  {
   "cell_type": "code",
   "execution_count": 14,
   "id": "78823081",
   "metadata": {},
   "outputs": [
    {
     "name": "stdout",
     "output_type": "stream",
     "text": [
      "数据加载完成。\n",
      "交叉验证（k折叠）得分情况：\n",
      " [1. 1. 1. 1. 1. 1. 1. 1.]\n",
      "平均分：\n",
      " 1.0\n",
      "用时（秒）： 5.874377727508545\n",
      "====================\n",
      "交叉验证（随机拆分）得分情况：\n",
      " [1. 1. 1. 1. 1. 1. 1. 1. 1. 1.]\n",
      "平均分：\n",
      " 1.0\n",
      "用时（秒）： 6.478534698486328\n",
      "====================\n",
      "交叉验证（逐个测试）得分情况：\n",
      " [1. 1. 1. 1. 1. 1. 1. 1. 1. 1. 1. 1. 1. 1. 1. 1. 1. 1. 1. 1. 1. 1. 1. 1.\n",
      " 1. 1. 1. 1. 1. 1. 1. 1. 1. 1. 1. 1. 1. 1. 1. 1. 1. 1. 1. 1. 1. 1. 1. 1.\n",
      " 1. 1. 1. 1. 1. 1. 1. 1. 1. 1. 1. 1. 1. 1. 1. 1. 1. 1. 1. 1. 1. 1. 1. 1.\n",
      " 1. 1. 1. 1. 1. 1. 1. 1. 1. 1. 1. 1. 1. 1. 1. 1. 1. 1. 1. 1. 1. 1. 1. 1.\n",
      " 1. 1. 1. 1. 1. 1. 1. 1. 1. 1. 1. 1. 1. 1. 1. 1. 1. 1. 1. 1. 1. 1. 1. 1.\n",
      " 1. 1. 1. 1. 1. 1. 1. 1. 1. 1. 1. 1. 1. 1. 1. 1. 1. 1. 1. 1. 1. 1. 1. 1.\n",
      " 1. 1. 1. 1. 1. 1. 1. 1. 1. 1. 1. 1. 1. 1. 1. 1. 1. 1. 1. 1. 1. 1. 1. 1.\n",
      " 1. 1. 1. 1. 1. 1. 1. 1. 1. 1. 1. 1. 1. 1. 1. 1. 1. 1. 1. 1. 1. 1. 1. 1.\n",
      " 1. 1. 1. 1. 1. 1. 1. 1. 1. 1. 1. 1. 1. 1. 1. 1. 1. 1. 1. 1. 1. 1. 1. 1.\n",
      " 1. 1. 1. 1. 1. 1. 1. 1. 1. 1. 1. 1. 1. 1. 1. 1. 1. 1. 1. 1. 1. 1. 1. 1.\n",
      " 1. 1. 1. 1. 1. 1. 1. 1. 1. 1. 1. 1. 1. 1. 1. 1. 1. 1. 1. 1. 1. 1. 1. 1.\n",
      " 1. 1. 1. 1. 1. 1. 1. 1. 1. 1. 1. 1. 1. 1. 1. 1. 1. 1. 1. 1. 1. 1. 1. 1.\n",
      " 1. 1. 1. 1. 1. 1. 1. 1. 1. 1. 1. 1. 1. 1. 1. 1. 1. 1. 1. 1. 1. 1. 1. 1.\n",
      " 1. 1. 1. 1. 1. 1. 1. 1. 1. 1. 1. 1. 1. 1. 1. 1. 1. 1. 1. 1. 1. 1. 1. 1.\n",
      " 1. 1. 1. 1. 1. 1. 1. 1. 1. 1. 1. 1. 1. 1. 1. 1. 1. 1. 1. 1. 1. 1. 1. 1.\n",
      " 1. 1. 1. 1. 1. 1. 1. 1. 1. 1. 1. 1. 1. 1. 1. 1. 1. 1. 1. 1. 1. 1. 1. 1.\n",
      " 1. 1. 1. 1. 1. 1. 1. 1. 1. 1. 1. 1. 1. 1. 1. 1. 1. 1. 1. 1. 1. 1. 1. 1.\n",
      " 1. 1. 1. 1. 1. 1. 1. 1. 1. 1. 1. 1. 1. 1. 1. 1. 1. 1. 1. 1. 1. 1. 1. 1.\n",
      " 1. 1. 1. 1. 1. 1. 1. 1. 1. 1. 1. 1. 1. 1. 1. 1. 1. 1. 1. 1. 1. 1. 1. 1.\n",
      " 1. 1. 1. 1. 1. 1. 1. 1. 1. 1. 1. 1. 1. 1. 1. 1. 1. 1. 1. 1. 1. 1. 1. 1.\n",
      " 1. 1. 1. 1. 1. 1. 1. 1. 1. 1. 1. 1. 1. 1. 1. 1. 1. 1. 1. 1. 1. 1. 1. 1.\n",
      " 1. 1. 1. 1. 1. 1. 1. 1. 1. 1. 1. 1. 1. 1. 1. 1. 1. 1. 1. 1. 1. 1. 1. 1.\n",
      " 1. 1. 1. 1. 1. 1. 1. 1. 1. 1. 1. 1. 1. 1. 1. 1. 1. 1. 1. 1. 1. 1. 1. 1.\n",
      " 1. 1. 1. 1. 1. 1. 1. 1. 1. 1. 1. 1. 1. 1. 1. 1. 1. 1. 1. 1. 1. 1. 1. 1.\n",
      " 1. 1. 1. 1. 1. 1. 1. 1. 1. 1. 1. 1. 1. 1. 1. 1. 1. 1. 1. 1. 1. 1. 1. 1.\n",
      " 1. 1. 1. 1. 1. 1. 1. 1. 1. 1. 1. 1. 1. 1. 1. 1. 1. 1. 1. 1. 1. 1. 1. 1.\n",
      " 1. 1. 1. 1. 1. 1. 1. 1. 1. 1. 1. 1. 1. 1. 1. 1. 1. 1. 1. 1. 1. 1. 1. 1.\n",
      " 1. 1. 1. 1. 1. 1. 1. 1. 1. 1. 1. 1. 1. 1. 1. 1. 1. 1. 1. 1. 1. 1. 1. 1.\n",
      " 1. 1. 1. 1. 1. 1. 1. 1. 1. 1. 1. 1. 1. 1. 1. 1. 1. 1. 1. 1. 1. 1. 1. 1.\n",
      " 1. 1. 1. 1. 1. 1. 1. 1. 1. 1. 1. 1. 1. 1. 1. 1. 1. 1. 1. 1. 1. 1. 1. 1.\n",
      " 1. 1. 1. 1. 1. 1. 1. 1. 1. 1. 1. 1. 1. 1. 1. 1. 1. 1. 1. 1. 1. 1. 1. 1.\n",
      " 1. 1. 1. 1. 1. 1. 1. 1. 1. 1. 1. 1. 1. 1. 1. 1. 1. 1. 1. 1. 1. 1. 1. 1.\n",
      " 1. 1. 1. 1. 1. 1. 1. 1. 1. 1. 1. 1. 1. 1. 1. 1. 1. 1. 1. 1. 1. 1. 1. 1.\n",
      " 1. 1. 1. 1. 1. 1. 1. 1. 1. 1. 1. 1. 1. 1. 1. 1. 1. 1. 1. 1. 1. 1. 1. 1.\n",
      " 1. 1. 1. 1. 1. 1. 1. 1. 1. 1. 1. 1. 1. 1. 1. 1. 1. 1. 1. 1. 1. 1. 1. 1.\n",
      " 1. 1. 1. 1. 1. 1. 1. 1. 1. 1. 1. 1. 1. 1. 1. 1. 1. 1. 1. 1. 1. 1. 1. 1.\n",
      " 1. 1. 1. 1. 1. 1. 1. 1. 1. 1. 1. 1. 1. 1. 1. 1. 1. 1. 1. 1. 1. 1. 1. 1.\n",
      " 1. 1. 1. 1. 1. 1. 1. 1. 1. 1. 1. 1. 1. 1. 1. 1. 1. 1. 1. 1. 1. 1. 1. 1.\n",
      " 1. 1. 1. 1. 1. 1. 1. 1. 1. 1. 1. 1. 1. 1. 1. 1. 1. 1. 1. 1. 1. 1. 1. 1.\n",
      " 1. 1. 1. 1. 1. 1. 1. 1. 1. 1. 1. 1. 1. 1. 1. 1. 1. 1. 1. 1. 1. 1. 1. 1.\n",
      " 1. 1. 1. 1. 1. 1. 1. 1. 1. 1. 1. 1. 1. 1. 1. 1. 1. 1. 1. 1. 1. 1. 1. 1.\n",
      " 1. 1. 1. 1. 1. 1. 1. 1. 1. 1. 1. 1. 1. 1. 1. 1.]\n",
      "平均分：\n",
      " 1.0\n",
      "用时（秒）： 795.165778875351\n"
     ]
    }
   ],
   "source": [
    "from time import time\n",
    "from os import listdir\n",
    "from os.path import basename\n",
    "from PIL import Image\n",
    "from sklearn import svm\n",
    "from sklearn.model_selection import cross_val_score,\\\n",
    "     ShuffleSplit, LeaveOneOut\n",
    "\n",
    "# 图像尺寸\n",
    "width, height = 30, 60\n",
    "\n",
    "def loadDigits(dstDir='D:\\\\workspaces\\\\AI\\\\ip\\\\人工智能\\\\数据集\\\\datasets'):\n",
    "    # 获取所有图像文件名\n",
    "    digitsFile = [dstDir+'\\\\'+fn for fn in listdir(dstDir)\n",
    "                  if fn.endswith('.jpg')]\n",
    "    # 按编号排序\n",
    "    digitsFile.sort(key=lambda fn: int(basename(fn)[:-4]))\n",
    "    # digitsData用于存放读取的图片中数字信息\n",
    "    # 每个图片中所有像素值存放于digitsData中的一行数据\n",
    "    digitsData = []\n",
    "    for fn in digitsFile:\n",
    "        with Image.open(fn) as im:\n",
    "            data = [sum(im.getpixel((w,h)))/len(im.getpixel((w,h)))\n",
    "                    for w in range(width)\n",
    "                    for h in range(height)]\n",
    "            digitsData.append(data)\n",
    "    # digitsLabel用于存放图片中数字的标准分类\n",
    "    with open(dstDir+'\\\\digits.txt') as fp:\n",
    "        digitsLabel = fp.readlines()\n",
    "    digitsLabel = [label.strip() for label in digitsLabel]\n",
    "    return (digitsData, digitsLabel)\n",
    "\n",
    "# 加载数据\n",
    "data = loadDigits()\n",
    "print('数据加载完成。')\n",
    "\n",
    "# 创建模型\n",
    "svcClassifier = svm.SVC(kernel=\"linear\", C=1000, gamma=0.001)\n",
    "\n",
    "# 交叉验证\n",
    "start = time()\n",
    "scores = cross_val_score(svcClassifier, data[0], data[1], cv=8)\n",
    "print('交叉验证（k折叠）得分情况：\\n', scores)\n",
    "print('平均分：\\n', scores.mean())\n",
    "print('用时（秒）：', time()-start)\n",
    "print('='*20)\n",
    "\n",
    "start = time()\n",
    "scores = cross_val_score(svcClassifier, data[0], data[1],\n",
    "                         cv=ShuffleSplit(test_size=0.3,\n",
    "                                         train_size=0.7,\n",
    "                                         n_splits=10))\n",
    "print('交叉验证（随机拆分）得分情况：\\n', scores)\n",
    "print('平均分：\\n', scores.mean())\n",
    "print('用时（秒）：', time()-start)\n",
    "print('='*20)\n",
    "\n",
    "start = time()\n",
    "scores = cross_val_score(svcClassifier, data[0], data[1],\n",
    "                         cv=LeaveOneOut())\n",
    "print('交叉验证（逐个测试）得分情况：\\n', scores)\n",
    "print('平均分：\\n', scores.mean())\n",
    "print('用时（秒）：', time()-start)\n"
   ]
  },
  {
   "cell_type": "code",
   "execution_count": null,
   "id": "108f550a",
   "metadata": {},
   "outputs": [],
   "source": []
  }
 ],
 "metadata": {
  "kernelspec": {
   "display_name": "Python 3 (ipykernel)",
   "language": "python",
   "name": "python3"
  },
  "language_info": {
   "codemirror_mode": {
    "name": "ipython",
    "version": 3
   },
   "file_extension": ".py",
   "mimetype": "text/x-python",
   "name": "python",
   "nbconvert_exporter": "python",
   "pygments_lexer": "ipython3",
   "version": "3.7.11"
  }
 },
 "nbformat": 4,
 "nbformat_minor": 5
}
